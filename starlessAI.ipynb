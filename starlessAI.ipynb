{
  "cells": [
    {
      "cell_type": "code",
      "execution_count": null,
      "metadata": {
        "colab": {
          "base_uri": "https://localhost:8080/"
        },
        "collapsed": true,
        "id": "MeJ19tAeCpNG",
        "outputId": "8a6c43ae-7a1a-4484-d42e-1f8b8f0c28f7"
      },
      "outputs": [],
      "source": [
        "# setup starlessAI\n",
        "\n",
        "!git clone https://github.com/acocalypso/starlessAI\n",
        "%cd starlessAI\n",
        "!pip install -r requirements.txt"
      ]
    },
    {
      "cell_type": "code",
      "execution_count": null,
      "metadata": {
        "colab": {
          "base_uri": "https://localhost:8080/"
        },
        "id": "AwOyoV53Dy-F",
        "outputId": "f9804dfc-12b1-4cd3-be1e-fcbfe31de9bc"
      },
      "outputs": [],
      "source": [
        "# update if required\n",
        "!git pull"
      ]
    },
    {
      "cell_type": "code",
      "execution_count": null,
      "metadata": {
        "colab": {
          "base_uri": "https://localhost:8080/"
        },
        "id": "g13_m8kmCfLg",
        "outputId": "10d0515f-966d-430c-894a-782a5f2f6857"
      },
      "outputs": [],
      "source": [
        "# run training\n",
        "!python train.py"
      ]
    }
  ],
  "metadata": {
    "accelerator": "GPU",
    "colab": {
      "gpuType": "T4",
      "provenance": []
    },
    "kernelspec": {
      "display_name": "Python 3",
      "name": "python3"
    },
    "language_info": {
      "name": "python"
    }
  },
  "nbformat": 4,
  "nbformat_minor": 0
}
